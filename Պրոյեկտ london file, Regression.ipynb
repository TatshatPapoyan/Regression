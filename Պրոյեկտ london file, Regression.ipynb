{
 "cells": [
  {
   "cell_type": "code",
   "execution_count": 1,
   "metadata": {},
   "outputs": [],
   "source": [
    "import pandas as pd\n",
    "import matplotlib.pyplot as plt\n",
    "from sklearn import linear_model\n",
    "import statsmodels.api as sm"
   ]
  },
  {
   "cell_type": "code",
   "execution_count": 2,
   "metadata": {},
   "outputs": [],
   "source": [
    "data = pd.read_excel('C:/Users/Tatshat/Desktop/Python/Project London expenditure/Excel_files/london.xlsx')"
   ]
  },
  {
   "cell_type": "code",
   "execution_count": 3,
   "metadata": {},
   "outputs": [
    {
     "data": {
      "text/html": [
       "<div>\n",
       "<style scoped>\n",
       "    .dataframe tbody tr th:only-of-type {\n",
       "        vertical-align: middle;\n",
       "    }\n",
       "\n",
       "    .dataframe tbody tr th {\n",
       "        vertical-align: top;\n",
       "    }\n",
       "\n",
       "    .dataframe thead th {\n",
       "        text-align: right;\n",
       "    }\n",
       "</style>\n",
       "<table border=\"1\" class=\"dataframe\">\n",
       "  <thead>\n",
       "    <tr style=\"text-align: right;\">\n",
       "      <th></th>\n",
       "      <th>household</th>\n",
       "      <th>wfood</th>\n",
       "      <th>wfuel</th>\n",
       "      <th>wcloth</th>\n",
       "      <th>walc</th>\n",
       "      <th>wtrans</th>\n",
       "      <th>wother</th>\n",
       "      <th>totexp</th>\n",
       "      <th>income</th>\n",
       "      <th>age</th>\n",
       "      <th>nk</th>\n",
       "      <th>mean_wfood</th>\n",
       "      <th>mean_wfuel</th>\n",
       "      <th>mean_wcloth</th>\n",
       "      <th>mean_walc</th>\n",
       "      <th>mean_wtrans</th>\n",
       "      <th>mean_wother</th>\n",
       "    </tr>\n",
       "  </thead>\n",
       "  <tbody>\n",
       "    <tr>\n",
       "      <th>0</th>\n",
       "      <td>1</td>\n",
       "      <td>0.4272</td>\n",
       "      <td>0.1342</td>\n",
       "      <td>0.0000</td>\n",
       "      <td>0.0106</td>\n",
       "      <td>0.1458</td>\n",
       "      <td>0.2822</td>\n",
       "      <td>50</td>\n",
       "      <td>130</td>\n",
       "      <td>25</td>\n",
       "      <td>2</td>\n",
       "      <td>0.3565</td>\n",
       "      <td>0.091</td>\n",
       "      <td>0.1072</td>\n",
       "      <td>0.0606</td>\n",
       "      <td>0.1324</td>\n",
       "      <td>0.2523</td>\n",
       "    </tr>\n",
       "    <tr>\n",
       "      <th>1</th>\n",
       "      <td>2</td>\n",
       "      <td>0.3739</td>\n",
       "      <td>0.1686</td>\n",
       "      <td>0.0091</td>\n",
       "      <td>0.0825</td>\n",
       "      <td>0.1215</td>\n",
       "      <td>0.2444</td>\n",
       "      <td>90</td>\n",
       "      <td>150</td>\n",
       "      <td>39</td>\n",
       "      <td>2</td>\n",
       "      <td>NaN</td>\n",
       "      <td>NaN</td>\n",
       "      <td>NaN</td>\n",
       "      <td>NaN</td>\n",
       "      <td>NaN</td>\n",
       "      <td>NaN</td>\n",
       "    </tr>\n",
       "    <tr>\n",
       "      <th>2</th>\n",
       "      <td>3</td>\n",
       "      <td>0.1941</td>\n",
       "      <td>0.4056</td>\n",
       "      <td>0.0012</td>\n",
       "      <td>0.0513</td>\n",
       "      <td>0.2063</td>\n",
       "      <td>0.1415</td>\n",
       "      <td>180</td>\n",
       "      <td>230</td>\n",
       "      <td>47</td>\n",
       "      <td>2</td>\n",
       "      <td>NaN</td>\n",
       "      <td>NaN</td>\n",
       "      <td>NaN</td>\n",
       "      <td>NaN</td>\n",
       "      <td>NaN</td>\n",
       "      <td>NaN</td>\n",
       "    </tr>\n",
       "    <tr>\n",
       "      <th>3</th>\n",
       "      <td>4</td>\n",
       "      <td>0.4438</td>\n",
       "      <td>0.1258</td>\n",
       "      <td>0.0539</td>\n",
       "      <td>0.0397</td>\n",
       "      <td>0.0652</td>\n",
       "      <td>0.2716</td>\n",
       "      <td>80</td>\n",
       "      <td>100</td>\n",
       "      <td>33</td>\n",
       "      <td>2</td>\n",
       "      <td>NaN</td>\n",
       "      <td>NaN</td>\n",
       "      <td>NaN</td>\n",
       "      <td>NaN</td>\n",
       "      <td>NaN</td>\n",
       "      <td>NaN</td>\n",
       "    </tr>\n",
       "    <tr>\n",
       "      <th>4</th>\n",
       "      <td>5</td>\n",
       "      <td>0.3331</td>\n",
       "      <td>0.0824</td>\n",
       "      <td>0.0399</td>\n",
       "      <td>0.1571</td>\n",
       "      <td>0.2403</td>\n",
       "      <td>0.1473</td>\n",
       "      <td>90</td>\n",
       "      <td>100</td>\n",
       "      <td>31</td>\n",
       "      <td>1</td>\n",
       "      <td>NaN</td>\n",
       "      <td>NaN</td>\n",
       "      <td>NaN</td>\n",
       "      <td>NaN</td>\n",
       "      <td>NaN</td>\n",
       "      <td>NaN</td>\n",
       "    </tr>\n",
       "    <tr>\n",
       "      <th>...</th>\n",
       "      <td>...</td>\n",
       "      <td>...</td>\n",
       "      <td>...</td>\n",
       "      <td>...</td>\n",
       "      <td>...</td>\n",
       "      <td>...</td>\n",
       "      <td>...</td>\n",
       "      <td>...</td>\n",
       "      <td>...</td>\n",
       "      <td>...</td>\n",
       "      <td>...</td>\n",
       "      <td>...</td>\n",
       "      <td>...</td>\n",
       "      <td>...</td>\n",
       "      <td>...</td>\n",
       "      <td>...</td>\n",
       "      <td>...</td>\n",
       "    </tr>\n",
       "    <tr>\n",
       "      <th>1514</th>\n",
       "      <td>1515</td>\n",
       "      <td>0.4106</td>\n",
       "      <td>0.0402</td>\n",
       "      <td>0.0054</td>\n",
       "      <td>0.0700</td>\n",
       "      <td>0.2256</td>\n",
       "      <td>0.2483</td>\n",
       "      <td>90</td>\n",
       "      <td>120</td>\n",
       "      <td>29</td>\n",
       "      <td>2</td>\n",
       "      <td>NaN</td>\n",
       "      <td>NaN</td>\n",
       "      <td>NaN</td>\n",
       "      <td>NaN</td>\n",
       "      <td>NaN</td>\n",
       "      <td>NaN</td>\n",
       "    </tr>\n",
       "    <tr>\n",
       "      <th>1515</th>\n",
       "      <td>1516</td>\n",
       "      <td>0.2787</td>\n",
       "      <td>0.1066</td>\n",
       "      <td>0.0176</td>\n",
       "      <td>0.0000</td>\n",
       "      <td>0.2196</td>\n",
       "      <td>0.3775</td>\n",
       "      <td>70</td>\n",
       "      <td>90</td>\n",
       "      <td>34</td>\n",
       "      <td>2</td>\n",
       "      <td>NaN</td>\n",
       "      <td>NaN</td>\n",
       "      <td>NaN</td>\n",
       "      <td>NaN</td>\n",
       "      <td>NaN</td>\n",
       "      <td>NaN</td>\n",
       "    </tr>\n",
       "    <tr>\n",
       "      <th>1516</th>\n",
       "      <td>1517</td>\n",
       "      <td>0.3298</td>\n",
       "      <td>0.0759</td>\n",
       "      <td>0.2566</td>\n",
       "      <td>0.0292</td>\n",
       "      <td>0.1309</td>\n",
       "      <td>0.1777</td>\n",
       "      <td>100</td>\n",
       "      <td>260</td>\n",
       "      <td>38</td>\n",
       "      <td>2</td>\n",
       "      <td>NaN</td>\n",
       "      <td>NaN</td>\n",
       "      <td>NaN</td>\n",
       "      <td>NaN</td>\n",
       "      <td>NaN</td>\n",
       "      <td>NaN</td>\n",
       "    </tr>\n",
       "    <tr>\n",
       "      <th>1517</th>\n",
       "      <td>1518</td>\n",
       "      <td>0.6061</td>\n",
       "      <td>0.0459</td>\n",
       "      <td>0.0787</td>\n",
       "      <td>0.0679</td>\n",
       "      <td>0.0259</td>\n",
       "      <td>0.1755</td>\n",
       "      <td>130</td>\n",
       "      <td>160</td>\n",
       "      <td>44</td>\n",
       "      <td>2</td>\n",
       "      <td>NaN</td>\n",
       "      <td>NaN</td>\n",
       "      <td>NaN</td>\n",
       "      <td>NaN</td>\n",
       "      <td>NaN</td>\n",
       "      <td>NaN</td>\n",
       "    </tr>\n",
       "    <tr>\n",
       "      <th>1518</th>\n",
       "      <td>1519</td>\n",
       "      <td>0.1885</td>\n",
       "      <td>0.0328</td>\n",
       "      <td>0.1279</td>\n",
       "      <td>0.2162</td>\n",
       "      <td>0.1575</td>\n",
       "      <td>0.2771</td>\n",
       "      <td>140</td>\n",
       "      <td>140</td>\n",
       "      <td>27</td>\n",
       "      <td>1</td>\n",
       "      <td>NaN</td>\n",
       "      <td>NaN</td>\n",
       "      <td>NaN</td>\n",
       "      <td>NaN</td>\n",
       "      <td>NaN</td>\n",
       "      <td>NaN</td>\n",
       "    </tr>\n",
       "  </tbody>\n",
       "</table>\n",
       "<p>1519 rows × 17 columns</p>\n",
       "</div>"
      ],
      "text/plain": [
       "      household   wfood   wfuel  wcloth    walc  wtrans  wother  totexp  \\\n",
       "0             1  0.4272  0.1342  0.0000  0.0106  0.1458  0.2822      50   \n",
       "1             2  0.3739  0.1686  0.0091  0.0825  0.1215  0.2444      90   \n",
       "2             3  0.1941  0.4056  0.0012  0.0513  0.2063  0.1415     180   \n",
       "3             4  0.4438  0.1258  0.0539  0.0397  0.0652  0.2716      80   \n",
       "4             5  0.3331  0.0824  0.0399  0.1571  0.2403  0.1473      90   \n",
       "...         ...     ...     ...     ...     ...     ...     ...     ...   \n",
       "1514       1515  0.4106  0.0402  0.0054  0.0700  0.2256  0.2483      90   \n",
       "1515       1516  0.2787  0.1066  0.0176  0.0000  0.2196  0.3775      70   \n",
       "1516       1517  0.3298  0.0759  0.2566  0.0292  0.1309  0.1777     100   \n",
       "1517       1518  0.6061  0.0459  0.0787  0.0679  0.0259  0.1755     130   \n",
       "1518       1519  0.1885  0.0328  0.1279  0.2162  0.1575  0.2771     140   \n",
       "\n",
       "      income  age  nk  mean_wfood  mean_wfuel  mean_wcloth  mean_walc  \\\n",
       "0        130   25   2      0.3565       0.091       0.1072     0.0606   \n",
       "1        150   39   2         NaN         NaN          NaN        NaN   \n",
       "2        230   47   2         NaN         NaN          NaN        NaN   \n",
       "3        100   33   2         NaN         NaN          NaN        NaN   \n",
       "4        100   31   1         NaN         NaN          NaN        NaN   \n",
       "...      ...  ...  ..         ...         ...          ...        ...   \n",
       "1514     120   29   2         NaN         NaN          NaN        NaN   \n",
       "1515      90   34   2         NaN         NaN          NaN        NaN   \n",
       "1516     260   38   2         NaN         NaN          NaN        NaN   \n",
       "1517     160   44   2         NaN         NaN          NaN        NaN   \n",
       "1518     140   27   1         NaN         NaN          NaN        NaN   \n",
       "\n",
       "      mean_wtrans  mean_wother  \n",
       "0          0.1324       0.2523  \n",
       "1             NaN          NaN  \n",
       "2             NaN          NaN  \n",
       "3             NaN          NaN  \n",
       "4             NaN          NaN  \n",
       "...           ...          ...  \n",
       "1514          NaN          NaN  \n",
       "1515          NaN          NaN  \n",
       "1516          NaN          NaN  \n",
       "1517          NaN          NaN  \n",
       "1518          NaN          NaN  \n",
       "\n",
       "[1519 rows x 17 columns]"
      ]
     },
     "execution_count": 3,
     "metadata": {},
     "output_type": "execute_result"
    }
   ],
   "source": [
    "data"
   ]
  },
  {
   "cell_type": "code",
   "execution_count": 4,
   "metadata": {},
   "outputs": [
    {
     "data": {
      "text/plain": [
       "(1519, 17)"
      ]
     },
     "execution_count": 4,
     "metadata": {},
     "output_type": "execute_result"
    }
   ],
   "source": [
    "data.shape"
   ]
  },
  {
   "cell_type": "code",
   "execution_count": 5,
   "metadata": {},
   "outputs": [],
   "source": [
    "# change to dataframe variables\n",
    "wfood  = pd.DataFrame(data[\"wfood\"])\n",
    "wfuel  = pd.DataFrame(data[\"wfuel\"])\n",
    "wcloth = pd.DataFrame(data[\"wcloth\"])\n",
    "walc   = pd.DataFrame(data[\"walc\"])\n",
    "wtrans = pd.DataFrame(data[\"wtrans\"])\n",
    "wother = pd.DataFrame(data[\"wother\"])\n",
    "totexp = pd.DataFrame(data[\"totexp\"])\n",
    "income = pd.DataFrame(data[\"income\"])\n",
    "age    = pd.DataFrame(data[\"age\"])\n",
    "nk     = pd.DataFrame(data[\"nk\"])\n",
    "household = pd.DataFrame(data[\"household\"])\n",
    "# mean_wfood = pd.DataFrame(data[\"mean_wfood\"])\n",
    "# mean_wfuel = pd.DataFrame(data[\"mean_wfuel\"])\n",
    "# mean_wcloth = pd.DataFrame(data[\"mean_wcloth\"])\n",
    "# mean_walc = pd.DataFrame(data[\"mean_walc\"])\n",
    "# mean_wtrans = pd.DataFrame(data[\"mean_wtrans\"])\n",
    "# mean_wother = pd.DataFrame(data[\"mean_wother\"])"
   ]
  },
  {
   "cell_type": "code",
   "execution_count": 6,
   "metadata": {},
   "outputs": [],
   "source": [
    "# mean2_wfood = wfood.mean()\n",
    "# mean2_wfuel = wfuel.mean()\n",
    "# mean2_wcloth = wcloth.mean()\n",
    "# mean2_walc = walc.mean()\n",
    "# mean2_wtrans = wtrans.mean()\n",
    "# mean2_wother = wother.mean()"
   ]
  },
  {
   "cell_type": "code",
   "execution_count": 7,
   "metadata": {},
   "outputs": [],
   "source": [
    "# print(mean_wfood)\n",
    "# print(mean_wfuel)\n",
    "# print(mean_wcloth)\n",
    "# print(mean_walc)\n",
    "# print(mean_wtrans)\n",
    "# print(mean_wother)"
   ]
  },
  {
   "cell_type": "code",
   "execution_count": 8,
   "metadata": {},
   "outputs": [
    {
     "data": {
      "text/html": [
       "<div>\n",
       "<style scoped>\n",
       "    .dataframe tbody tr th:only-of-type {\n",
       "        vertical-align: middle;\n",
       "    }\n",
       "\n",
       "    .dataframe tbody tr th {\n",
       "        vertical-align: top;\n",
       "    }\n",
       "\n",
       "    .dataframe thead th {\n",
       "        text-align: right;\n",
       "    }\n",
       "</style>\n",
       "<table border=\"1\" class=\"dataframe\">\n",
       "  <thead>\n",
       "    <tr style=\"text-align: right;\">\n",
       "      <th></th>\n",
       "      <th>totexp</th>\n",
       "    </tr>\n",
       "  </thead>\n",
       "  <tbody>\n",
       "    <tr>\n",
       "      <th>0</th>\n",
       "      <td>50</td>\n",
       "    </tr>\n",
       "    <tr>\n",
       "      <th>1</th>\n",
       "      <td>90</td>\n",
       "    </tr>\n",
       "    <tr>\n",
       "      <th>2</th>\n",
       "      <td>180</td>\n",
       "    </tr>\n",
       "    <tr>\n",
       "      <th>3</th>\n",
       "      <td>80</td>\n",
       "    </tr>\n",
       "    <tr>\n",
       "      <th>4</th>\n",
       "      <td>90</td>\n",
       "    </tr>\n",
       "    <tr>\n",
       "      <th>...</th>\n",
       "      <td>...</td>\n",
       "    </tr>\n",
       "    <tr>\n",
       "      <th>1514</th>\n",
       "      <td>90</td>\n",
       "    </tr>\n",
       "    <tr>\n",
       "      <th>1515</th>\n",
       "      <td>70</td>\n",
       "    </tr>\n",
       "    <tr>\n",
       "      <th>1516</th>\n",
       "      <td>100</td>\n",
       "    </tr>\n",
       "    <tr>\n",
       "      <th>1517</th>\n",
       "      <td>130</td>\n",
       "    </tr>\n",
       "    <tr>\n",
       "      <th>1518</th>\n",
       "      <td>140</td>\n",
       "    </tr>\n",
       "  </tbody>\n",
       "</table>\n",
       "<p>1519 rows × 1 columns</p>\n",
       "</div>"
      ],
      "text/plain": [
       "      totexp\n",
       "0         50\n",
       "1         90\n",
       "2        180\n",
       "3         80\n",
       "4         90\n",
       "...      ...\n",
       "1514      90\n",
       "1515      70\n",
       "1516     100\n",
       "1517     130\n",
       "1518     140\n",
       "\n",
       "[1519 rows x 1 columns]"
      ]
     },
     "execution_count": 8,
     "metadata": {},
     "output_type": "execute_result"
    }
   ],
   "source": [
    "totexp"
   ]
  },
  {
   "cell_type": "code",
   "execution_count": 9,
   "metadata": {},
   "outputs": [
    {
     "ename": "SyntaxError",
     "evalue": "invalid syntax (<ipython-input-9-da79e19c03aa>, line 4)",
     "output_type": "error",
     "traceback": [
      "\u001b[1;36m  File \u001b[1;32m\"<ipython-input-9-da79e19c03aa>\"\u001b[1;36m, line \u001b[1;32m4\u001b[0m\n\u001b[1;33m    plt.title('Total expenditure vs Income', fontsize = 14)\u001b[0m\n\u001b[1;37m    ^\u001b[0m\n\u001b[1;31mSyntaxError\u001b[0m\u001b[1;31m:\u001b[0m invalid syntax\n"
     ]
    }
   ],
   "source": [
    "plt.plot(kind = 'line', household, totexp, marker='o', markerfacecolor='blue', markersize=12, color='skyblue', linewidth=4, # lable = 'totexp')\n",
    "plt.plot(household, income, marker='', color='olive', linewidth=2, # lable = 'income')\n",
    "plt.legend()\n",
    "plt.title('Total expenditure vs Income', fontsize = 14)\n",
    "plt.xlabel('Household')\n",
    "plt.ylabel('$')\n",
    "plt.grid(True)\n",
    "plt.show()"
   ]
  },
  {
   "cell_type": "code",
   "execution_count": 10,
   "metadata": {},
   "outputs": [
    {
     "data": {
      "image/png": "[encoded data removed]",
      "text/plain": [
       "<Figure size 432x288 with 1 Axes>"
      ]
     },
     "metadata": {
      "needs_background": "light"
     },
     "output_type": "display_data"
    }
   ],
   "source": [
    "plt.boxplot(wfood)\n",
    "plt.show()  # ընդհ մեջ ամեն մեկի մասի պատկերը"
   ]
  },
  {
   "cell_type": "code",
   "execution_count": 11,
   "metadata": {},
   "outputs": [
    {
     "data": {
      "image/png": "[encoded data removed]",
      "text/plain": [
       "<Figure size 432x288 with 1 Axes>"
      ]
     },
     "metadata": {
      "needs_background": "light"
     },
     "output_type": "display_data"
    }
   ],
   "source": [
    "data.plot(x = 'totexp', y = 'wfood', kind = 'scatter')\n",
    "plt.show()"
   ]
  },
  {
   "cell_type": "code",
   "execution_count": 12,
   "metadata": {},
   "outputs": [
    {
     "data": {
      "image/png": "[encoded data removed]",
      "text/plain": [
       "<Figure size 432x288 with 1 Axes>"
      ]
     },
     "metadata": {
      "needs_background": "light"
     },
     "output_type": "display_data"
    }
   ],
   "source": [
    "plt.boxplot(wfuel)\n",
    "plt.show()"
   ]
  },
  {
   "cell_type": "code",
   "execution_count": 13,
   "metadata": {},
   "outputs": [
    {
     "data": {
      "image/png": "[encoded data removed]",
      "text/plain": [
       "<Figure size 432x288 with 1 Axes>"
      ]
     },
     "metadata": {
      "needs_background": "light"
     },
     "output_type": "display_data"
    }
   ],
   "source": [
    "data.plot(x = 'totexp', y = 'wfuel', kind = 'scatter')\n",
    "plt.show()"
   ]
  },
  {
   "cell_type": "code",
   "execution_count": 14,
   "metadata": {},
   "outputs": [
    {
     "data": {
      "image/png": "[encoded data removed]",
      "text/plain": [
       "<Figure size 432x288 with 1 Axes>"
      ]
     },
     "metadata": {
      "needs_background": "light"
     },
     "output_type": "display_data"
    }
   ],
   "source": [
    "plt.boxplot(wcloth)\n",
    "plt.show()"
   ]
  },
  {
   "cell_type": "code",
   "execution_count": 15,
   "metadata": {},
   "outputs": [
    {
     "data": {
      "image/png": "[encoded data removed]",
      "text/plain": [
       "<Figure size 432x288 with 1 Axes>"
      ]
     },
     "metadata": {
      "needs_background": "light"
     },
     "output_type": "display_data"
    }
   ],
   "source": [
    "data.plot(x = 'totexp', y = 'wcloth', kind = 'scatter')\n",
    "plt.show()"
   ]
  },
  {
   "cell_type": "code",
   "execution_count": 16,
   "metadata": {},
   "outputs": [
    {
     "data": {
      "image/png": "[encoded data removed]",
      "text/plain": [
       "<Figure size 432x288 with 1 Axes>"
      ]
     },
     "metadata": {
      "needs_background": "light"
     },
     "output_type": "display_data"
    }
   ],
   "source": [
    "plt.boxplot(walc)\n",
    "plt.show()"
   ]
  },
  {
   "cell_type": "code",
   "execution_count": 17,
   "metadata": {},
   "outputs": [
    {
     "data": {
      "image/png": "[encoded data removed]",
      "text/plain": [
       "<Figure size 432x288 with 1 Axes>"
      ]
     },
     "metadata": {
      "needs_background": "light"
     },
     "output_type": "display_data"
    }
   ],
   "source": [
    "data.plot(x = 'totexp', y = 'walc', kind = 'scatter')\n",
    "plt.show()"
   ]
  },
  {
   "cell_type": "code",
   "execution_count": 18,
   "metadata": {},
   "outputs": [
    {
     "data": {
      "image/png": "[encoded data removed]",
      "text/plain": [
       "<Figure size 432x288 with 1 Axes>"
      ]
     },
     "metadata": {
      "needs_background": "light"
     },
     "output_type": "display_data"
    }
   ],
   "source": [
    "plt.boxplot(wtrans)\n",
    "plt.show()"
   ]
  },
  {
   "cell_type": "code",
   "execution_count": 19,
   "metadata": {},
   "outputs": [
    {
     "data": {
      "image/png": "[encoded data removed]",
      "text/plain": [
       "<Figure size 432x288 with 1 Axes>"
      ]
     },
     "metadata": {
      "needs_background": "light"
     },
     "output_type": "display_data"
    }
   ],
   "source": [
    "data.plot(x = 'totexp', y = 'wtrans', kind = 'scatter')\n",
    "plt.show()"
   ]
  },
  {
   "cell_type": "code",
   "execution_count": 20,
   "metadata": {},
   "outputs": [
    {
     "data": {
      "image/png": "[encoded data removed]",
      "text/plain": [
       "<Figure size 432x288 with 1 Axes>"
      ]
     },
     "metadata": {
      "needs_background": "light"
     },
     "output_type": "display_data"
    }
   ],
   "source": [
    "plt.boxplot(wother)\n",
    "plt.show()"
   ]
  },
  {
   "cell_type": "code",
   "execution_count": 21,
   "metadata": {},
   "outputs": [
    {
     "data": {
      "image/png": "[encoded data removed]",
      "text/plain": [
       "<Figure size 432x288 with 1 Axes>"
      ]
     },
     "metadata": {
      "needs_background": "light"
     },
     "output_type": "display_data"
    }
   ],
   "source": [
    "data.plot(x = 'totexp', y = 'wother', kind = 'scatter')\n",
    "plt.show()"
   ]
  },
  {
   "cell_type": "code",
   "execution_count": 22,
   "metadata": {},
   "outputs": [
    {
     "data": {
      "image/png": "[encoded data removed]",
      "text/plain": [
       "<Figure size 432x288 with 1 Axes>"
      ]
     },
     "metadata": {
      "needs_background": "light"
     },
     "output_type": "display_data"
    }
   ],
   "source": [
    "plt.boxplot(totexp)\n",
    "plt.show()"
   ]
  },
  {
   "cell_type": "code",
   "execution_count": 23,
   "metadata": {},
   "outputs": [
    {
     "data": {
      "image/png": "[encoded data removed]",
      "text/plain": [
       "<Figure size 432x288 with 1 Axes>"
      ]
     },
     "metadata": {
      "needs_background": "light"
     },
     "output_type": "display_data"
    }
   ],
   "source": [
    "plt.boxplot(income)\n",
    "plt.show()"
   ]
  },
  {
   "cell_type": "code",
   "execution_count": 24,
   "metadata": {},
   "outputs": [],
   "source": [
    "# w_all = [wfood, wfuel, wcloth, walc, wtrans, wother]\n",
    "# plt.boxplot(w_all)\n",
    "# plt.show()"
   ]
  },
  {
   "cell_type": "code",
   "execution_count": 25,
   "metadata": {},
   "outputs": [
    {
     "data": {
      "image/png": "[encoded data removed]",
      "text/plain": [
       "<Figure size 432x288 with 1 Axes>"
      ]
     },
     "metadata": {},
     "output_type": "display_data"
    }
   ],
   "source": [
    "sizes = [35.65, 9.1, 10.72, 6.06, 13.24, 25.23]\n",
    "labels = [\"Food\", \"Fuel\", \"Cloth\", \"Alcohol\", \"Transport\", \"Other\"]\n",
    "explode = [0.1, 0.1, 0.1, 0.1, 0.1, 0.1]\n",
    "\n",
    "# plt.pie(sizes, labels = labels, explode = explode, autopct = '%.1f%%', startangle = 260, shadow = True)\n",
    "# plt.title('Pies in Total expenditure', fontsize = 14)\n",
    "# plt.legend(\n",
    "#     loc = 'upper right',\n",
    "#     prop = {'size': 12},\n",
    "#     bbox_to_anchor = (0, 1),\n",
    "# )\n",
    "\n",
    "plt.pie(sizes, autopct = '%1.1f%%', startangle = 90, pctdistance = 0.85, explode = explode)\n",
    "plt.title('Pies in Total Expenditure', fontsize = 16)\n",
    "plt.legend( \n",
    "    labels,\n",
    "    loc = 'upper right',\n",
    "    prop = {'size': 12},\n",
    "    bbox_to_anchor = (0, 1),\n",
    ")\n",
    "\n",
    "#drawing circle\n",
    "centre_circle = plt.Circle((0,0), 0.65, fc = 'white')\n",
    "fig = plt.gcf()\n",
    "fig.gca().add_artist(centre_circle)\n",
    "\n",
    "plt.axis('equal')\n",
    "plt.show()"
   ]
  },
  {
   "cell_type": "code",
   "execution_count": 26,
   "metadata": {},
   "outputs": [
    {
     "data": {
      "text/html": [
       "<div>\n",
       "<style scoped>\n",
       "    .dataframe tbody tr th:only-of-type {\n",
       "        vertical-align: middle;\n",
       "    }\n",
       "\n",
       "    .dataframe tbody tr th {\n",
       "        vertical-align: top;\n",
       "    }\n",
       "\n",
       "    .dataframe thead th {\n",
       "        text-align: right;\n",
       "    }\n",
       "</style>\n",
       "<table border=\"1\" class=\"dataframe\">\n",
       "  <thead>\n",
       "    <tr style=\"text-align: right;\">\n",
       "      <th></th>\n",
       "      <th>household</th>\n",
       "      <th>wfood</th>\n",
       "      <th>wfuel</th>\n",
       "      <th>wcloth</th>\n",
       "      <th>walc</th>\n",
       "      <th>wtrans</th>\n",
       "      <th>wother</th>\n",
       "      <th>totexp</th>\n",
       "      <th>income</th>\n",
       "      <th>age</th>\n",
       "      <th>nk</th>\n",
       "      <th>mean_wfood</th>\n",
       "      <th>mean_wfuel</th>\n",
       "      <th>mean_wcloth</th>\n",
       "      <th>mean_walc</th>\n",
       "      <th>mean_wtrans</th>\n",
       "      <th>mean_wother</th>\n",
       "    </tr>\n",
       "  </thead>\n",
       "  <tbody>\n",
       "    <tr>\n",
       "      <th>household</th>\n",
       "      <td>1.000000</td>\n",
       "      <td>-0.076928</td>\n",
       "      <td>-0.197709</td>\n",
       "      <td>0.051942</td>\n",
       "      <td>0.001819</td>\n",
       "      <td>0.013896</td>\n",
       "      <td>0.114662</td>\n",
       "      <td>0.107559</td>\n",
       "      <td>0.049555</td>\n",
       "      <td>0.014895</td>\n",
       "      <td>0.027972</td>\n",
       "      <td>NaN</td>\n",
       "      <td>NaN</td>\n",
       "      <td>NaN</td>\n",
       "      <td>NaN</td>\n",
       "      <td>NaN</td>\n",
       "      <td>NaN</td>\n",
       "    </tr>\n",
       "    <tr>\n",
       "      <th>wfood</th>\n",
       "      <td>-0.076928</td>\n",
       "      <td>1.000000</td>\n",
       "      <td>0.101560</td>\n",
       "      <td>-0.326646</td>\n",
       "      <td>-0.122413</td>\n",
       "      <td>-0.333762</td>\n",
       "      <td>-0.353581</td>\n",
       "      <td>-0.478747</td>\n",
       "      <td>-0.234667</td>\n",
       "      <td>0.021404</td>\n",
       "      <td>0.101786</td>\n",
       "      <td>NaN</td>\n",
       "      <td>NaN</td>\n",
       "      <td>NaN</td>\n",
       "      <td>NaN</td>\n",
       "      <td>NaN</td>\n",
       "      <td>NaN</td>\n",
       "    </tr>\n",
       "    <tr>\n",
       "      <th>wfuel</th>\n",
       "      <td>-0.197709</td>\n",
       "      <td>0.101560</td>\n",
       "      <td>1.000000</td>\n",
       "      <td>-0.247083</td>\n",
       "      <td>-0.134147</td>\n",
       "      <td>-0.160910</td>\n",
       "      <td>-0.132765</td>\n",
       "      <td>-0.319379</td>\n",
       "      <td>-0.028701</td>\n",
       "      <td>-0.039518</td>\n",
       "      <td>-0.027230</td>\n",
       "      <td>NaN</td>\n",
       "      <td>NaN</td>\n",
       "      <td>NaN</td>\n",
       "      <td>NaN</td>\n",
       "      <td>NaN</td>\n",
       "      <td>NaN</td>\n",
       "    </tr>\n",
       "    <tr>\n",
       "      <th>wcloth</th>\n",
       "      <td>0.051942</td>\n",
       "      <td>-0.326646</td>\n",
       "      <td>-0.247083</td>\n",
       "      <td>1.000000</td>\n",
       "      <td>-0.089469</td>\n",
       "      <td>-0.185016</td>\n",
       "      <td>-0.217726</td>\n",
       "      <td>0.304887</td>\n",
       "      <td>0.073434</td>\n",
       "      <td>0.035377</td>\n",
       "      <td>0.013359</td>\n",
       "      <td>NaN</td>\n",
       "      <td>NaN</td>\n",
       "      <td>NaN</td>\n",
       "      <td>NaN</td>\n",
       "      <td>NaN</td>\n",
       "      <td>NaN</td>\n",
       "    </tr>\n",
       "    <tr>\n",
       "      <th>walc</th>\n",
       "      <td>0.001819</td>\n",
       "      <td>-0.122413</td>\n",
       "      <td>-0.134147</td>\n",
       "      <td>-0.089469</td>\n",
       "      <td>1.000000</td>\n",
       "      <td>-0.217484</td>\n",
       "      <td>-0.117181</td>\n",
       "      <td>0.096369</td>\n",
       "      <td>0.038946</td>\n",
       "      <td>-0.143400</td>\n",
       "      <td>-0.085482</td>\n",
       "      <td>NaN</td>\n",
       "      <td>NaN</td>\n",
       "      <td>NaN</td>\n",
       "      <td>NaN</td>\n",
       "      <td>NaN</td>\n",
       "      <td>NaN</td>\n",
       "    </tr>\n",
       "    <tr>\n",
       "      <th>wtrans</th>\n",
       "      <td>0.013896</td>\n",
       "      <td>-0.333762</td>\n",
       "      <td>-0.160910</td>\n",
       "      <td>-0.185016</td>\n",
       "      <td>-0.217484</td>\n",
       "      <td>1.000000</td>\n",
       "      <td>-0.295971</td>\n",
       "      <td>0.148272</td>\n",
       "      <td>0.008443</td>\n",
       "      <td>0.026929</td>\n",
       "      <td>-0.043609</td>\n",
       "      <td>NaN</td>\n",
       "      <td>NaN</td>\n",
       "      <td>NaN</td>\n",
       "      <td>NaN</td>\n",
       "      <td>NaN</td>\n",
       "      <td>NaN</td>\n",
       "    </tr>\n",
       "    <tr>\n",
       "      <th>wother</th>\n",
       "      <td>0.114662</td>\n",
       "      <td>-0.353581</td>\n",
       "      <td>-0.132765</td>\n",
       "      <td>-0.217726</td>\n",
       "      <td>-0.117181</td>\n",
       "      <td>-0.295971</td>\n",
       "      <td>1.000000</td>\n",
       "      <td>0.157614</td>\n",
       "      <td>0.153371</td>\n",
       "      <td>0.026064</td>\n",
       "      <td>-0.005306</td>\n",
       "      <td>NaN</td>\n",
       "      <td>NaN</td>\n",
       "      <td>NaN</td>\n",
       "      <td>NaN</td>\n",
       "      <td>NaN</td>\n",
       "      <td>NaN</td>\n",
       "    </tr>\n",
       "    <tr>\n",
       "      <th>totexp</th>\n",
       "      <td>0.107559</td>\n",
       "      <td>-0.478747</td>\n",
       "      <td>-0.319379</td>\n",
       "      <td>0.304887</td>\n",
       "      <td>0.096369</td>\n",
       "      <td>0.148272</td>\n",
       "      <td>0.157614</td>\n",
       "      <td>1.000000</td>\n",
       "      <td>0.448740</td>\n",
       "      <td>0.189451</td>\n",
       "      <td>0.071415</td>\n",
       "      <td>NaN</td>\n",
       "      <td>NaN</td>\n",
       "      <td>NaN</td>\n",
       "      <td>NaN</td>\n",
       "      <td>NaN</td>\n",
       "      <td>NaN</td>\n",
       "    </tr>\n",
       "    <tr>\n",
       "      <th>income</th>\n",
       "      <td>0.049555</td>\n",
       "      <td>-0.234667</td>\n",
       "      <td>-0.028701</td>\n",
       "      <td>0.073434</td>\n",
       "      <td>0.038946</td>\n",
       "      <td>0.008443</td>\n",
       "      <td>0.153371</td>\n",
       "      <td>0.448740</td>\n",
       "      <td>1.000000</td>\n",
       "      <td>0.218494</td>\n",
       "      <td>0.025439</td>\n",
       "      <td>NaN</td>\n",
       "      <td>NaN</td>\n",
       "      <td>NaN</td>\n",
       "      <td>NaN</td>\n",
       "      <td>NaN</td>\n",
       "      <td>NaN</td>\n",
       "    </tr>\n",
       "    <tr>\n",
       "      <th>age</th>\n",
       "      <td>0.014895</td>\n",
       "      <td>0.021404</td>\n",
       "      <td>-0.039518</td>\n",
       "      <td>0.035377</td>\n",
       "      <td>-0.143400</td>\n",
       "      <td>0.026929</td>\n",
       "      <td>0.026064</td>\n",
       "      <td>0.189451</td>\n",
       "      <td>0.218494</td>\n",
       "      <td>1.000000</td>\n",
       "      <td>0.008092</td>\n",
       "      <td>NaN</td>\n",
       "      <td>NaN</td>\n",
       "      <td>NaN</td>\n",
       "      <td>NaN</td>\n",
       "      <td>NaN</td>\n",
       "      <td>NaN</td>\n",
       "    </tr>\n",
       "    <tr>\n",
       "      <th>nk</th>\n",
       "      <td>0.027972</td>\n",
       "      <td>0.101786</td>\n",
       "      <td>-0.027230</td>\n",
       "      <td>0.013359</td>\n",
       "      <td>-0.085482</td>\n",
       "      <td>-0.043609</td>\n",
       "      <td>-0.005306</td>\n",
       "      <td>0.071415</td>\n",
       "      <td>0.025439</td>\n",
       "      <td>0.008092</td>\n",
       "      <td>1.000000</td>\n",
       "      <td>NaN</td>\n",
       "      <td>NaN</td>\n",
       "      <td>NaN</td>\n",
       "      <td>NaN</td>\n",
       "      <td>NaN</td>\n",
       "      <td>NaN</td>\n",
       "    </tr>\n",
       "    <tr>\n",
       "      <th>mean_wfood</th>\n",
       "      <td>NaN</td>\n",
       "      <td>NaN</td>\n",
       "      <td>NaN</td>\n",
       "      <td>NaN</td>\n",
       "      <td>NaN</td>\n",
       "      <td>NaN</td>\n",
       "      <td>NaN</td>\n",
       "      <td>NaN</td>\n",
       "      <td>NaN</td>\n",
       "      <td>NaN</td>\n",
       "      <td>NaN</td>\n",
       "      <td>NaN</td>\n",
       "      <td>NaN</td>\n",
       "      <td>NaN</td>\n",
       "      <td>NaN</td>\n",
       "      <td>NaN</td>\n",
       "      <td>NaN</td>\n",
       "    </tr>\n",
       "    <tr>\n",
       "      <th>mean_wfuel</th>\n",
       "      <td>NaN</td>\n",
       "      <td>NaN</td>\n",
       "      <td>NaN</td>\n",
       "      <td>NaN</td>\n",
       "      <td>NaN</td>\n",
       "      <td>NaN</td>\n",
       "      <td>NaN</td>\n",
       "      <td>NaN</td>\n",
       "      <td>NaN</td>\n",
       "      <td>NaN</td>\n",
       "      <td>NaN</td>\n",
       "      <td>NaN</td>\n",
       "      <td>NaN</td>\n",
       "      <td>NaN</td>\n",
       "      <td>NaN</td>\n",
       "      <td>NaN</td>\n",
       "      <td>NaN</td>\n",
       "    </tr>\n",
       "    <tr>\n",
       "      <th>mean_wcloth</th>\n",
       "      <td>NaN</td>\n",
       "      <td>NaN</td>\n",
       "      <td>NaN</td>\n",
       "      <td>NaN</td>\n",
       "      <td>NaN</td>\n",
       "      <td>NaN</td>\n",
       "      <td>NaN</td>\n",
       "      <td>NaN</td>\n",
       "      <td>NaN</td>\n",
       "      <td>NaN</td>\n",
       "      <td>NaN</td>\n",
       "      <td>NaN</td>\n",
       "      <td>NaN</td>\n",
       "      <td>NaN</td>\n",
       "      <td>NaN</td>\n",
       "      <td>NaN</td>\n",
       "      <td>NaN</td>\n",
       "    </tr>\n",
       "    <tr>\n",
       "      <th>mean_walc</th>\n",
       "      <td>NaN</td>\n",
       "      <td>NaN</td>\n",
       "      <td>NaN</td>\n",
       "      <td>NaN</td>\n",
       "      <td>NaN</td>\n",
       "      <td>NaN</td>\n",
       "      <td>NaN</td>\n",
       "      <td>NaN</td>\n",
       "      <td>NaN</td>\n",
       "      <td>NaN</td>\n",
       "      <td>NaN</td>\n",
       "      <td>NaN</td>\n",
       "      <td>NaN</td>\n",
       "      <td>NaN</td>\n",
       "      <td>NaN</td>\n",
       "      <td>NaN</td>\n",
       "      <td>NaN</td>\n",
       "    </tr>\n",
       "    <tr>\n",
       "      <th>mean_wtrans</th>\n",
       "      <td>NaN</td>\n",
       "      <td>NaN</td>\n",
       "      <td>NaN</td>\n",
       "      <td>NaN</td>\n",
       "      <td>NaN</td>\n",
       "      <td>NaN</td>\n",
       "      <td>NaN</td>\n",
       "      <td>NaN</td>\n",
       "      <td>NaN</td>\n",
       "      <td>NaN</td>\n",
       "      <td>NaN</td>\n",
       "      <td>NaN</td>\n",
       "      <td>NaN</td>\n",
       "      <td>NaN</td>\n",
       "      <td>NaN</td>\n",
       "      <td>NaN</td>\n",
       "      <td>NaN</td>\n",
       "    </tr>\n",
       "    <tr>\n",
       "      <th>mean_wother</th>\n",
       "      <td>NaN</td>\n",
       "      <td>NaN</td>\n",
       "      <td>NaN</td>\n",
       "      <td>NaN</td>\n",
       "      <td>NaN</td>\n",
       "      <td>NaN</td>\n",
       "      <td>NaN</td>\n",
       "      <td>NaN</td>\n",
       "      <td>NaN</td>\n",
       "      <td>NaN</td>\n",
       "      <td>NaN</td>\n",
       "      <td>NaN</td>\n",
       "      <td>NaN</td>\n",
       "      <td>NaN</td>\n",
       "      <td>NaN</td>\n",
       "      <td>NaN</td>\n",
       "      <td>NaN</td>\n",
       "    </tr>\n",
       "  </tbody>\n",
       "</table>\n",
       "</div>"
      ],
      "text/plain": [
       "             household     wfood     wfuel    wcloth      walc    wtrans  \\\n",
       "household     1.000000 -0.076928 -0.197709  0.051942  0.001819  0.013896   \n",
       "wfood        -0.076928  1.000000  0.101560 -0.326646 -0.122413 -0.333762   \n",
       "wfuel        -0.197709  0.101560  1.000000 -0.247083 -0.134147 -0.160910   \n",
       "wcloth        0.051942 -0.326646 -0.247083  1.000000 -0.089469 -0.185016   \n",
       "walc          0.001819 -0.122413 -0.134147 -0.089469  1.000000 -0.217484   \n",
       "wtrans        0.013896 -0.333762 -0.160910 -0.185016 -0.217484  1.000000   \n",
       "wother        0.114662 -0.353581 -0.132765 -0.217726 -0.117181 -0.295971   \n",
       "totexp        0.107559 -0.478747 -0.319379  0.304887  0.096369  0.148272   \n",
       "income        0.049555 -0.234667 -0.028701  0.073434  0.038946  0.008443   \n",
       "age           0.014895  0.021404 -0.039518  0.035377 -0.143400  0.026929   \n",
       "nk            0.027972  0.101786 -0.027230  0.013359 -0.085482 -0.043609   \n",
       "mean_wfood         NaN       NaN       NaN       NaN       NaN       NaN   \n",
       "mean_wfuel         NaN       NaN       NaN       NaN       NaN       NaN   \n",
       "mean_wcloth        NaN       NaN       NaN       NaN       NaN       NaN   \n",
       "mean_walc          NaN       NaN       NaN       NaN       NaN       NaN   \n",
       "mean_wtrans        NaN       NaN       NaN       NaN       NaN       NaN   \n",
       "mean_wother        NaN       NaN       NaN       NaN       NaN       NaN   \n",
       "\n",
       "               wother    totexp    income       age        nk  mean_wfood  \\\n",
       "household    0.114662  0.107559  0.049555  0.014895  0.027972         NaN   \n",
       "wfood       -0.353581 -0.478747 -0.234667  0.021404  0.101786         NaN   \n",
       "wfuel       -0.132765 -0.319379 -0.028701 -0.039518 -0.027230         NaN   \n",
       "wcloth      -0.217726  0.304887  0.073434  0.035377  0.013359         NaN   \n",
       "walc        -0.117181  0.096369  0.038946 -0.143400 -0.085482         NaN   \n",
       "wtrans      -0.295971  0.148272  0.008443  0.026929 -0.043609         NaN   \n",
       "wother       1.000000  0.157614  0.153371  0.026064 -0.005306         NaN   \n",
       "totexp       0.157614  1.000000  0.448740  0.189451  0.071415         NaN   \n",
       "income       0.153371  0.448740  1.000000  0.218494  0.025439         NaN   \n",
       "age          0.026064  0.189451  0.218494  1.000000  0.008092         NaN   \n",
       "nk          -0.005306  0.071415  0.025439  0.008092  1.000000         NaN   \n",
       "mean_wfood        NaN       NaN       NaN       NaN       NaN         NaN   \n",
       "mean_wfuel        NaN       NaN       NaN       NaN       NaN         NaN   \n",
       "mean_wcloth       NaN       NaN       NaN       NaN       NaN         NaN   \n",
       "mean_walc         NaN       NaN       NaN       NaN       NaN         NaN   \n",
       "mean_wtrans       NaN       NaN       NaN       NaN       NaN         NaN   \n",
       "mean_wother       NaN       NaN       NaN       NaN       NaN         NaN   \n",
       "\n",
       "             mean_wfuel  mean_wcloth  mean_walc  mean_wtrans  mean_wother  \n",
       "household           NaN          NaN        NaN          NaN          NaN  \n",
       "wfood               NaN          NaN        NaN          NaN          NaN  \n",
       "wfuel               NaN          NaN        NaN          NaN          NaN  \n",
       "wcloth              NaN          NaN        NaN          NaN          NaN  \n",
       "walc                NaN          NaN        NaN          NaN          NaN  \n",
       "wtrans              NaN          NaN        NaN          NaN          NaN  \n",
       "wother              NaN          NaN        NaN          NaN          NaN  \n",
       "totexp              NaN          NaN        NaN          NaN          NaN  \n",
       "income              NaN          NaN        NaN          NaN          NaN  \n",
       "age                 NaN          NaN        NaN          NaN          NaN  \n",
       "nk                  NaN          NaN        NaN          NaN          NaN  \n",
       "mean_wfood          NaN          NaN        NaN          NaN          NaN  \n",
       "mean_wfuel          NaN          NaN        NaN          NaN          NaN  \n",
       "mean_wcloth         NaN          NaN        NaN          NaN          NaN  \n",
       "mean_walc           NaN          NaN        NaN          NaN          NaN  \n",
       "mean_wtrans         NaN          NaN        NaN          NaN          NaN  \n",
       "mean_wother         NaN          NaN        NaN          NaN          NaN  "
      ]
     },
     "execution_count": 26,
     "metadata": {},
     "output_type": "execute_result"
    }
   ],
   "source": [
    "data.corr()  # Correlation coefficients"
   ]
  },
  {
   "cell_type": "code",
   "execution_count": null,
   "metadata": {},
   "outputs": [],
   "source": []
  },
  {
   "cell_type": "code",
   "execution_count": 27,
   "metadata": {},
   "outputs": [
    {
     "data": {
      "text/html": [
       "<div>\n",
       "<style scoped>\n",
       "    .dataframe tbody tr th:only-of-type {\n",
       "        vertical-align: middle;\n",
       "    }\n",
       "\n",
       "    .dataframe tbody tr th {\n",
       "        vertical-align: top;\n",
       "    }\n",
       "\n",
       "    .dataframe thead th {\n",
       "        text-align: right;\n",
       "    }\n",
       "</style>\n",
       "<table border=\"1\" class=\"dataframe\">\n",
       "  <thead>\n",
       "    <tr style=\"text-align: right;\">\n",
       "      <th></th>\n",
       "      <th>totexp</th>\n",
       "    </tr>\n",
       "  </thead>\n",
       "  <tbody>\n",
       "    <tr>\n",
       "      <th>0</th>\n",
       "      <td>50</td>\n",
       "    </tr>\n",
       "    <tr>\n",
       "      <th>1</th>\n",
       "      <td>90</td>\n",
       "    </tr>\n",
       "    <tr>\n",
       "      <th>2</th>\n",
       "      <td>180</td>\n",
       "    </tr>\n",
       "    <tr>\n",
       "      <th>3</th>\n",
       "      <td>80</td>\n",
       "    </tr>\n",
       "    <tr>\n",
       "      <th>4</th>\n",
       "      <td>90</td>\n",
       "    </tr>\n",
       "    <tr>\n",
       "      <th>...</th>\n",
       "      <td>...</td>\n",
       "    </tr>\n",
       "    <tr>\n",
       "      <th>1514</th>\n",
       "      <td>90</td>\n",
       "    </tr>\n",
       "    <tr>\n",
       "      <th>1515</th>\n",
       "      <td>70</td>\n",
       "    </tr>\n",
       "    <tr>\n",
       "      <th>1516</th>\n",
       "      <td>100</td>\n",
       "    </tr>\n",
       "    <tr>\n",
       "      <th>1517</th>\n",
       "      <td>130</td>\n",
       "    </tr>\n",
       "    <tr>\n",
       "      <th>1518</th>\n",
       "      <td>140</td>\n",
       "    </tr>\n",
       "  </tbody>\n",
       "</table>\n",
       "<p>1519 rows × 1 columns</p>\n",
       "</div>"
      ],
      "text/plain": [
       "      totexp\n",
       "0         50\n",
       "1         90\n",
       "2        180\n",
       "3         80\n",
       "4         90\n",
       "...      ...\n",
       "1514      90\n",
       "1515      70\n",
       "1516     100\n",
       "1517     130\n",
       "1518     140\n",
       "\n",
       "[1519 rows x 1 columns]"
      ]
     },
     "execution_count": 27,
     "metadata": {},
     "output_type": "execute_result"
    }
   ],
   "source": [
    "totexp"
   ]
  },
  {
   "cell_type": "code",
   "execution_count": 28,
   "metadata": {},
   "outputs": [],
   "source": [
    "# Building linear regression model\n",
    "lm = linear_model.LinearRegression()\n",
    "model = lm.fit(income, totexp)  # lm.fit(x, y)"
   ]
  },
  {
   "cell_type": "code",
   "execution_count": 29,
   "metadata": {},
   "outputs": [
    {
     "data": {
      "text/plain": [
       "array([[0.31742582]])"
      ]
     },
     "execution_count": 29,
     "metadata": {},
     "output_type": "execute_result"
    }
   ],
   "source": [
    "model.coef_    # b1"
   ]
  },
  {
   "cell_type": "code",
   "execution_count": 30,
   "metadata": {},
   "outputs": [
    {
     "data": {
      "text/plain": [
       "array([55.44802684])"
      ]
     },
     "execution_count": 30,
     "metadata": {},
     "output_type": "execute_result"
    }
   ],
   "source": [
    "model.intercept_   # Constant"
   ]
  },
  {
   "cell_type": "code",
   "execution_count": 31,
   "metadata": {},
   "outputs": [
    {
     "data": {
      "text/plain": [
       "0.20136789986250092"
      ]
     },
     "execution_count": 31,
     "metadata": {},
     "output_type": "execute_result"
    }
   ],
   "source": [
    "model.score(income, totexp)  # R-square"
   ]
  },
  {
   "cell_type": "markdown",
   "metadata": {},
   "source": [
    "# totexp = 0.3174 * income + 55.448\n",
    "# R-squared = 0.2014  or  20.14%"
   ]
  },
  {
   "cell_type": "code",
   "execution_count": null,
   "metadata": {},
   "outputs": [],
   "source": []
  },
  {
   "cell_type": "markdown",
   "metadata": {},
   "source": [
    "# Advanced Linear Regression With statsmodels"
   ]
  },
  {
   "cell_type": "code",
   "execution_count": 32,
   "metadata": {},
   "outputs": [
    {
     "name": "stdout",
     "output_type": "stream",
     "text": [
      "      const  income\n",
      "0       1.0     130\n",
      "1       1.0     150\n",
      "2       1.0     230\n",
      "3       1.0     100\n",
      "4       1.0     100\n",
      "...     ...     ...\n",
      "1514    1.0     120\n",
      "1515    1.0      90\n",
      "1516    1.0     260\n",
      "1517    1.0     160\n",
      "1518    1.0     140\n",
      "\n",
      "[1519 rows x 2 columns]\n"
     ]
    }
   ],
   "source": [
    "x = sm.add_constant(income)\n",
    "print(x)"
   ]
  },
  {
   "cell_type": "code",
   "execution_count": 33,
   "metadata": {},
   "outputs": [],
   "source": [
    "model = sm.OLS(totexp, x)"
   ]
  },
  {
   "cell_type": "code",
   "execution_count": 34,
   "metadata": {},
   "outputs": [],
   "source": [
    "results = model.fit()"
   ]
  },
  {
   "cell_type": "code",
   "execution_count": 35,
   "metadata": {},
   "outputs": [
    {
     "name": "stdout",
     "output_type": "stream",
     "text": [
      "                            OLS Regression Results                            \n",
      "==============================================================================\n",
      "Dep. Variable:                 totexp   R-squared:                       0.201\n",
      "Model:                            OLS   Adj. R-squared:                  0.201\n",
      "Method:                 Least Squares   F-statistic:                     382.5\n",
      "Date:                Sat, 27 Mar 2021   Prob (F-statistic):           3.88e-76\n",
      "Time:                        23:12:37   Log-Likelihood:                -7704.2\n",
      "No. Observations:                1519   AIC:                         1.541e+04\n",
      "Df Residuals:                    1517   BIC:                         1.542e+04\n",
      "Df Model:                           1                                         \n",
      "Covariance Type:            nonrobust                                         \n",
      "==============================================================================\n",
      "                 coef    std err          t      P>|t|      [0.025      0.975]\n",
      "------------------------------------------------------------------------------\n",
      "const         55.4480      2.423     22.883      0.000      50.695      60.201\n",
      "income         0.3174      0.016     19.558      0.000       0.286       0.349\n",
      "==============================================================================\n",
      "Omnibus:                      527.423   Durbin-Watson:                   1.950\n",
      "Prob(Omnibus):                  0.000   Jarque-Bera (JB):             3663.047\n",
      "Skew:                           1.442   Prob(JB):                         0.00\n",
      "Kurtosis:                      10.040   Cond. No.                         365.\n",
      "==============================================================================\n",
      "\n",
      "Notes:\n",
      "[1] Standard Errors assume that the covariance matrix of the errors is correctly specified.\n"
     ]
    }
   ],
   "source": [
    "print(results.summary())"
   ]
  },
  {
   "cell_type": "code",
   "execution_count": 36,
   "metadata": {},
   "outputs": [
    {
     "data": {
      "text/html": [
       "<div>\n",
       "<style scoped>\n",
       "    .dataframe tbody tr th:only-of-type {\n",
       "        vertical-align: middle;\n",
       "    }\n",
       "\n",
       "    .dataframe tbody tr th {\n",
       "        vertical-align: top;\n",
       "    }\n",
       "\n",
       "    .dataframe thead th {\n",
       "        text-align: right;\n",
       "    }\n",
       "</style>\n",
       "<table border=\"1\" class=\"dataframe\">\n",
       "  <thead>\n",
       "    <tr style=\"text-align: right;\">\n",
       "      <th></th>\n",
       "      <th>income</th>\n",
       "    </tr>\n",
       "  </thead>\n",
       "  <tbody>\n",
       "    <tr>\n",
       "      <th>0</th>\n",
       "      <td>130</td>\n",
       "    </tr>\n",
       "    <tr>\n",
       "      <th>1</th>\n",
       "      <td>150</td>\n",
       "    </tr>\n",
       "    <tr>\n",
       "      <th>2</th>\n",
       "      <td>230</td>\n",
       "    </tr>\n",
       "    <tr>\n",
       "      <th>3</th>\n",
       "      <td>100</td>\n",
       "    </tr>\n",
       "    <tr>\n",
       "      <th>4</th>\n",
       "      <td>100</td>\n",
       "    </tr>\n",
       "    <tr>\n",
       "      <th>...</th>\n",
       "      <td>...</td>\n",
       "    </tr>\n",
       "    <tr>\n",
       "      <th>1514</th>\n",
       "      <td>120</td>\n",
       "    </tr>\n",
       "    <tr>\n",
       "      <th>1515</th>\n",
       "      <td>90</td>\n",
       "    </tr>\n",
       "    <tr>\n",
       "      <th>1516</th>\n",
       "      <td>260</td>\n",
       "    </tr>\n",
       "    <tr>\n",
       "      <th>1517</th>\n",
       "      <td>160</td>\n",
       "    </tr>\n",
       "    <tr>\n",
       "      <th>1518</th>\n",
       "      <td>140</td>\n",
       "    </tr>\n",
       "  </tbody>\n",
       "</table>\n",
       "<p>1519 rows × 1 columns</p>\n",
       "</div>"
      ],
      "text/plain": [
       "      income\n",
       "0        130\n",
       "1        150\n",
       "2        230\n",
       "3        100\n",
       "4        100\n",
       "...      ...\n",
       "1514     120\n",
       "1515      90\n",
       "1516     260\n",
       "1517     160\n",
       "1518     140\n",
       "\n",
       "[1519 rows x 1 columns]"
      ]
     },
     "execution_count": 36,
     "metadata": {},
     "output_type": "execute_result"
    }
   ],
   "source": [
    "income"
   ]
  },
  {
   "cell_type": "markdown",
   "metadata": {},
   "source": [
    "# Advanced Linear Regression With statsmodels without constant"
   ]
  },
  {
   "cell_type": "code",
   "execution_count": 37,
   "metadata": {},
   "outputs": [
    {
     "name": "stdout",
     "output_type": "stream",
     "text": [
      "      const  income\n",
      "0       1.0     130\n",
      "1       1.0     150\n",
      "2       1.0     230\n",
      "3       1.0     100\n",
      "4       1.0     100\n",
      "...     ...     ...\n",
      "1514    1.0     120\n",
      "1515    1.0      90\n",
      "1516    1.0     260\n",
      "1517    1.0     160\n",
      "1518    1.0     140\n",
      "\n",
      "[1519 rows x 2 columns]\n"
     ]
    }
   ],
   "source": [
    "print(x)"
   ]
  },
  {
   "cell_type": "code",
   "execution_count": 38,
   "metadata": {},
   "outputs": [
    {
     "name": "stdout",
     "output_type": "stream",
     "text": [
      "      income\n",
      "0        130\n",
      "1        150\n",
      "2        230\n",
      "3        100\n",
      "4        100\n",
      "...      ...\n",
      "1514     120\n",
      "1515      90\n",
      "1516     260\n",
      "1517     160\n",
      "1518     140\n",
      "\n",
      "[1519 rows x 1 columns]\n"
     ]
    }
   ],
   "source": [
    "del x['const']\n",
    "print(x)"
   ]
  },
  {
   "cell_type": "code",
   "execution_count": 39,
   "metadata": {},
   "outputs": [],
   "source": [
    "model = sm.OLS(totexp, income)"
   ]
  },
  {
   "cell_type": "code",
   "execution_count": 40,
   "metadata": {},
   "outputs": [],
   "source": [
    "results = model.fit()"
   ]
  },
  {
   "cell_type": "code",
   "execution_count": 41,
   "metadata": {},
   "outputs": [
    {
     "name": "stdout",
     "output_type": "stream",
     "text": [
      "                                 OLS Regression Results                                \n",
      "=======================================================================================\n",
      "Dep. Variable:                 totexp   R-squared (uncentered):                   0.827\n",
      "Model:                            OLS   Adj. R-squared (uncentered):              0.827\n",
      "Method:                 Least Squares   F-statistic:                              7278.\n",
      "Date:                Sat, 27 Mar 2021   Prob (F-statistic):                        0.00\n",
      "Time:                        23:12:48   Log-Likelihood:                         -7929.4\n",
      "No. Observations:                1519   AIC:                                  1.586e+04\n",
      "Df Residuals:                    1518   BIC:                                  1.587e+04\n",
      "Df Model:                           1                                                  \n",
      "Covariance Type:            nonrobust                                                  \n",
      "==============================================================================\n",
      "                 coef    std err          t      P>|t|      [0.025      0.975]\n",
      "------------------------------------------------------------------------------\n",
      "income         0.6564      0.008     85.309      0.000       0.641       0.671\n",
      "==============================================================================\n",
      "Omnibus:                      741.852   Durbin-Watson:                   1.903\n",
      "Prob(Omnibus):                  0.000   Jarque-Bera (JB):            49467.973\n",
      "Skew:                          -1.436   Prob(JB):                         0.00\n",
      "Kurtosis:                      30.809   Cond. No.                         1.00\n",
      "==============================================================================\n",
      "\n",
      "Notes:\n",
      "[1] R² is computed without centering (uncentered) since the model does not contain a constant.\n",
      "[2] Standard Errors assume that the covariance matrix of the errors is correctly specified.\n"
     ]
    }
   ],
   "source": [
    "print(results.summary())"
   ]
  },
  {
   "cell_type": "markdown",
   "metadata": {},
   "source": [
    "# totexp = 0.6564 * income\n",
    "# R-squared = 0.827   or  82.7%"
   ]
  },
  {
   "cell_type": "code",
   "execution_count": null,
   "metadata": {},
   "outputs": [],
   "source": []
  }
 ],
 "metadata": {
  "kernelspec": {
   "display_name": "Python 3",
   "language": "python",
   "name": "python3"
  },
  "language_info": {
   "codemirror_mode": {
    "name": "ipython",
    "version": 3
   },
   "file_extension": ".py",
   "mimetype": "text/x-python",
   "name": "python",
   "nbconvert_exporter": "python",
   "pygments_lexer": "ipython3",
   "version": "3.8.5"
  }
 },
 "nbformat": 4,
 "nbformat_minor": 4
}
